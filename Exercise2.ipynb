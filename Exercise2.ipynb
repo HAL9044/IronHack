{
 "cells": [
  {
   "cell_type": "markdown",
   "metadata": {},
   "source": [
    "## Conditional Statements"
   ]
  },
  {
   "cell_type": "markdown",
   "metadata": {},
   "source": [
    "Conditional statments are used when we have to control the flow of the program. In Python, we have IF, ELIF (else if) and ELSE. The idea is that certain statements are executed when a condition is satisfied, otherwise they are not.  \n",
    "We will take a look at a few examples to see how they are implemented and used in python. We use comparison operators in the conditional statements "
   ]
  },
  {
   "cell_type": "markdown",
   "metadata": {},
   "source": [
    "**Below we show simple implementations of IF, ELIF, and ELSE statements**"
   ]
  },
  {
   "cell_type": "code",
   "execution_count": null,
   "metadata": {},
   "outputs": [],
   "source": [
    "# Here we are trying to find the greater of two numbers \n",
    "a = 2\n",
    "b = 5\n",
    "if a > b:\n",
    "    print('a is greater')\n",
    "else:\n",
    "    print('b is greater')"
   ]
  },
  {
   "cell_type": "code",
   "execution_count": null,
   "metadata": {},
   "outputs": [],
   "source": [
    "# We are using IPython library to import images stored locally \n",
    "from IPython.display import Image\n",
    "Image(filename = \"https://education-team-2020.s3-eu-west-1.amazonaws.com/data-analytics/prework/unit1/conditional_statement_if_else.png\" , width=300, height=300)"
   ]
  },
  {
   "cell_type": "markdown",
   "metadata": {},
   "source": [
    "In the previous code, we have not taken into consideration the case when the two numbers might be equal...    \n",
    "For this we will have to introduce another condition to our code:"
   ]
  },
  {
   "cell_type": "code",
   "execution_count": null,
   "metadata": {},
   "outputs": [],
   "source": [
    "a = 5\n",
    "b = 2\n",
    "# Pay attention to the syntax and the indentation here\n",
    "if a>b:                     \n",
    "    print('a is greater')     \n",
    "elif b>a:\n",
    "    print('b is greater')\n",
    "else:\n",
    "    print('they both are equal')\n",
    "    \n",
    "# In this case, the first condition is true. Hence only the statements within 'IF' are executed"
   ]
  },
  {
   "cell_type": "markdown",
   "metadata": {},
   "source": [
    "**Here is a simple flowchart for IF, ELSE IF and ELSE statements**"
   ]
  },
  {
   "cell_type": "code",
   "execution_count": null,
   "metadata": {},
   "outputs": [],
   "source": [
    "Image(filename = \"https://education-team-2020.s3-eu-west-1.amazonaws.com/data-analytics/prework/unit1/conditional_statements_if_elseIf_else.png\")"
   ]
  },
  {
   "cell_type": "markdown",
   "metadata": {},
   "source": [
    "**Another implementation of the previous code. In this case we will execute multiple statements if a condition is met.   \n",
    "Note that the statements with the same indentation are all executed.** "
   ]
  },
  {
   "cell_type": "code",
   "execution_count": null,
   "metadata": {},
   "outputs": [],
   "source": [
    "a = 5\n",
    "b = 2\n",
    "# Pay attention to the indentation here. All the statements with the same indendation will be executed.\n",
    "if a>b:                     \n",
    "    print('a is greater')      \n",
    "    print('Value of a is',a)  \n",
    "    print('And value of b is',b)\n",
    "elif b>a:\n",
    "    print('b is greater')\n",
    "    print('Value of a is', a)\n",
    "    print('And value of b is',b)\n",
    "else:\n",
    "    print('they both are equal')\n",
    "    \n",
    "# In this case, the first condition is true. Hence only the statements within 'IF' are executed "
   ]
  },
  {
   "cell_type": "markdown",
   "metadata": {},
   "source": [
    "**Now we will look at the same example as above with different values of 'a' and 'b'**"
   ]
  },
  {
   "cell_type": "code",
   "execution_count": null,
   "metadata": {},
   "outputs": [],
   "source": [
    "a = 10\n",
    "b = 50\n",
    "# Pay attention to the indentation here. All the statements with the same indendation will be executed.\n",
    "\n",
    "if a>b:                     \n",
    "    print('a is greater')       \n",
    "    print('Value of a is',a)  \n",
    "    print('And value of b is',b)\n",
    "elif b>a:\n",
    "    print('b is greater')\n",
    "    print('Value of a is', a)\n",
    "    print('And value of b is',b)\n",
    "else:\n",
    "    print('they both are equal')\n",
    "    \n",
    "# In this case, the second condition is True. Hence only the statements within 'ELIF' are executed "
   ]
  },
  {
   "cell_type": "markdown",
   "metadata": {},
   "source": [
    "### Try out the code : What will happen if 'a' and 'b' have the same value\n",
    "Assign same other value to the variables 'a' and 'b' and see the results "
   ]
  },
  {
   "cell_type": "code",
   "execution_count": null,
   "metadata": {},
   "outputs": [],
   "source": []
  },
  {
   "cell_type": "code",
   "execution_count": null,
   "metadata": {},
   "outputs": [],
   "source": []
  },
  {
   "cell_type": "markdown",
   "metadata": {},
   "source": [
    "# Conditional Statements: Multiple conditions "
   ]
  },
  {
   "cell_type": "markdown",
   "metadata": {},
   "source": [
    "**Here we will look at a few examples where multiple conditional statements are joined using logical operators**"
   ]
  },
  {
   "cell_type": "markdown",
   "metadata": {},
   "source": [
    "We will try to find the greatest of three numbers"
   ]
  },
  {
   "cell_type": "code",
   "execution_count": null,
   "metadata": {},
   "outputs": [],
   "source": [
    "a = 5 \n",
    "b = 10\n",
    "c = 20\n",
    "# multiple conditional statements is joined by logical operator 'and'\n",
    "if a>b and a>c:                 \n",
    "    print('a is the greatest')\n",
    "elif b>a and b>c:\n",
    "    print('b is the greatest')\n",
    "elif c>a and c>b:\n",
    "    print('c is the greatest')\n",
    "else:\n",
    "    print('There is a tie somewhere')\n",
    "    \n",
    "#In this case, the statement returns true only when both the conditions are met.\n",
    "#Then all code within that conditional operator are executed."
   ]
  },
  {
   "cell_type": "markdown",
   "metadata": {},
   "source": [
    "### Nested Conditional Statements "
   ]
  },
  {
   "cell_type": "markdown",
   "metadata": {},
   "source": [
    "**A simple example of nested IF ELSE to check the greater of two numbers**"
   ]
  },
  {
   "cell_type": "code",
   "execution_count": null,
   "metadata": {},
   "outputs": [],
   "source": [
    "a = 10 \n",
    "b = 20\n",
    "\n",
    "if a!=b:\n",
    "    if a>b:\n",
    "        print(\"a is greater\")\n",
    "    else:\n",
    "        print(\"b is greater\")\n",
    "else:\n",
    "    print(\" a and b are equal\")"
   ]
  },
  {
   "cell_type": "markdown",
   "metadata": {},
   "source": [
    "**An improvement on the previous code, could be aking for users to input two numbers.**"
   ]
  },
  {
   "cell_type": "code",
   "execution_count": null,
   "metadata": {},
   "outputs": [],
   "source": [
    "a = int(input(\"Please enter value for a: \"))\n",
    "b = int(input(\"Please enter value for b: \"))\n",
    "\n",
    "if a!=b:\n",
    "    if a>b:\n",
    "        print(\"a is greater\")\n",
    "    else:\n",
    "        print(\"b is greater\")\n",
    "else:\n",
    "    print(\" a and b are equal\")"
   ]
  },
  {
   "cell_type": "markdown",
   "metadata": {},
   "source": [
    "**In the previous case we assumed that the user will enter correct input ie he will not enter words or alphabets or any special characters by mistake** \n",
    "Now we will improve this code (make it more robust). We will ask the user to enter two numbers.  \n",
    "Then we would check if the input is actually a number and only then we would use the comparison operator."
   ]
  },
  {
   "cell_type": "code",
   "execution_count": null,
   "metadata": {},
   "outputs": [],
   "source": [
    "a = input(\"Enter a number: \")\n",
    "b = input(\"Enter the second number: \")\n",
    "\n",
    "if a.replace('.','',1).isdigit() and b.replace('.','',1).isdigit():  # Checks if the string is a number or not \n",
    "    a = float(a)         # Type conversion to float \n",
    "    b = float(b)         # Type conversion to float\n",
    "    \n",
    "    if a!=b:             # Nested IF condition\n",
    "        if a > b:        # Another nested IF condition      \n",
    "            print('a is greater')  \n",
    "        else:\n",
    "            print('b is greater')\n",
    "    else: \n",
    "        print(\"a and b are equal\")\n",
    "else:\n",
    "    print(\"Integers were not entered\")"
   ]
  },
  {
   "cell_type": "markdown",
   "metadata": {},
   "source": [
    "## Exercises"
   ]
  },
  {
   "cell_type": "raw",
   "metadata": {},
   "source": [
    "1. Ask the user to input a number (should be integer). Check if the number is even or odd. Remember that 0 is neither even nor odd. Note, when you would use the `input` function, by default it is string. You would have to use type conversion to convert it into integer."
   ]
  },
  {
   "cell_type": "raw",
   "metadata": {},
   "source": [
    "2. Ask the user to input a number (should be integer). Check whether the number is zero, positive or negative."
   ]
  },
  {
   "cell_type": "raw",
   "metadata": {},
   "source": [
    "3. A school has following grading system:\n",
    "a. Below 25 - F\n",
    "b. 25 to 45 - E\n",
    "c. 45 to 60 - D\n",
    "d. 60 to 75 - C\n",
    "e. 75 to 90 - B\n",
    "f. Above 90 - A\n",
    "Ask user to enter marks (assuming the marks are between 0 and 100) and print the corresponding grade."
   ]
  },
  {
   "cell_type": "raw",
   "metadata": {},
   "source": [
    "4. In problem 1 we asked you to write a code to enter an integer and then check if that number is even or not. \n",
    "What if the user inputs a wrong input accidentally. Then the code should not break. We should prompt the user \n",
    "if the input entered was incorrect. \n",
    "Now try and make this code more robust by first checking if the entered input is a number or not. If the number \n",
    "entered is an integer, only then check if it is even or not. "
   ]
  },
  {
   "cell_type": "code",
   "execution_count": null,
   "metadata": {},
   "outputs": [],
   "source": [
    "#Exercise 1\n",
    "\n",
    "a = input(\"Please enter a number: \")\n",
    "if a.replace('.','',1).isdigit():\n",
    "    a = int(a)\n",
    "\n",
    "    if a != 0:\n",
    "        if a % 2 == 0:\n",
    "            print (\"Number is even\")\n",
    "        else:\n",
    "            print (\"Number is odd\")\n",
    "    else:\n",
    "        print(\"Enter number different to 0\")\n",
    "else:\n",
    "    print(\"Only integers allowed\")\n"
   ]
  },
  {
   "cell_type": "code",
   "execution_count": null,
   "metadata": {},
   "outputs": [],
   "source": [
    "#Exercise 2\n",
    "\n",
    "b = input(\"Please enter another number: \")\n",
    "b = int(b)\n",
    "\n",
    "if b != 0:\n",
    "    if b > 0:\n",
    "        print (\"Number is positive\")\n",
    "    elif b < 0:\n",
    "        print(\"Number is negative\")\n",
    "else:\n",
    "    print (\"Number is 0\")"
   ]
  },
  {
   "cell_type": "code",
   "execution_count": null,
   "metadata": {},
   "outputs": [],
   "source": [
    "\n",
    "#Exercise 3\n",
    "\n",
    "c = input(\"Input marks \")\n",
    "c = int(c)\n",
    "\n",
    "if c < 25:\n",
    "    print (\"Grade: F\")\n",
    "elif c >= 25 and c <= 45:\n",
    "    print (\"Grade: E\")\n",
    "elif c > 45 and c <= 60:\n",
    "    print (\"Grade: D\")\n",
    "elif c > 60 and c <= 75:\n",
    "    print (\"Grade: C\")\n",
    "elif c > 75 and c <= 90:\n",
    "    print (\"Grade: B\")\n",
    "elif c > 90 and c <= 100:\n",
    "    print (\"Grade: A\")\n",
    "else:\n",
    "    print(\" Enter valid marks.\")\n",
    "\n"
   ]
  },
  {
   "cell_type": "code",
   "execution_count": null,
   "metadata": {},
   "outputs": [],
   "source": []
  },
  {
   "cell_type": "code",
   "execution_count": null,
   "metadata": {},
   "outputs": [],
   "source": []
  }
 ],
 "metadata": {
  "kernelspec": {
   "display_name": "Python 3",
   "language": "python",
   "name": "python3"
  },
  "language_info": {
   "codemirror_mode": {
    "name": "ipython",
    "version": 3
   },
   "file_extension": ".py",
   "mimetype": "text/x-python",
   "name": "python",
   "nbconvert_exporter": "python",
   "pygments_lexer": "ipython3",
   "version": "3.8.8"
  }
 },
 "nbformat": 4,
 "nbformat_minor": 2
}
